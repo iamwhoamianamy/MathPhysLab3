{
 "metadata": {
  "language_info": {
   "codemirror_mode": {
    "name": "ipython",
    "version": 3
   },
   "file_extension": ".py",
   "mimetype": "text/x-python",
   "name": "python",
   "nbconvert_exporter": "python",
   "pygments_lexer": "ipython3",
   "version": "3.8.5"
  },
  "orig_nbformat": 2,
  "kernelspec": {
   "name": "python385jvsc74a57bd0b3ba2566441a7c06988d0923437866b63cedc61552a5af99d1f4fb67d367b25f",
   "display_name": "Python 3.8.5 64-bit (conda)"
  }
 },
 "nbformat": 4,
 "nbformat_minor": 2,
 "cells": [
  {
   "cell_type": "code",
   "execution_count": 2,
   "metadata": {},
   "outputs": [],
   "source": [
    "import numpy as np\n",
    "import math\n",
    "from sympy import Matrix, linsolve, symbols"
   ]
  },
  {
   "cell_type": "code",
   "execution_count": 3,
   "metadata": {},
   "outputs": [],
   "source": [
    "def mu(i):\n",
    "    return i % 2\n",
    "def nu(i):\n",
    "    return (i // 2) % 2\n",
    "def th(i):\n",
    "    return (i // 4)"
   ]
  },
  {
   "cell_type": "code",
   "execution_count": 4,
   "metadata": {},
   "outputs": [],
   "source": [
    "G = np.array(\n",
    "    [[1,-1],\n",
    "     [-1, 1]])\n",
    "M = np.array(\n",
    "    [[2, 1],\n",
    "     [1, 2]])\n",
    "\n",
    "GMM = np.zeros((8,8))\n",
    "MGM = np.zeros((8,8))\n",
    "MMG = np.zeros((8,8))\n",
    "MMM = np.zeros((8,8))\n",
    "\n",
    "for i in range(8):\n",
    "    for j in range(8):\n",
    "        GMM[i][j] = G[mu(i)][mu(j)] * M[nu(i)][nu(j)] * M[th(i)][th(j)]\n",
    "        MGM[i][j] = M[mu(i)][mu(j)] * G[nu(i)][nu(j)] * M[th(i)][th(j)]\n",
    "        MMG[i][j] = M[mu(i)][mu(j)] * M[nu(i)][nu(j)] * G[th(i)][th(j)]\n",
    "        MMM[i][j] = M[mu(i)][mu(j)] * M[nu(i)][nu(j)] * M[th(i)][th(j)]"
   ]
  },
  {
   "cell_type": "code",
   "execution_count": 5,
   "metadata": {},
   "outputs": [],
   "source": [
    "def out(file_name, mat):\n",
    "    with open(file_name, \"w\") as f:\n",
    "    \tfor i in range(8):\n",
    "    \t    f.write(str(mat[i][i]))\n",
    "    \t    f.write(\" \")\n",
    "    \tf.write(\"\\n\")\n",
    "    \tfor i in range(8):\n",
    "            for j in range(i):\n",
    "                f.write(str(mat[i][j]))\n",
    "                f.write(\" \")"
   ]
  },
  {
   "cell_type": "code",
   "execution_count": 6,
   "metadata": {},
   "outputs": [],
   "source": [
    "out(\"data/GMM.txt\", GMM)\n",
    "out(\"data/MGM.txt\", MGM)\n",
    "out(\"data/MMG.txt\", MMG)\n",
    "out(\"data/MMM.txt\", MMM)"
   ]
  },
  {
   "cell_type": "code",
   "execution_count": 8,
   "metadata": {},
   "outputs": [
    {
     "output_type": "stream",
     "name": "stdout",
     "text": [
      "[[8. 4. 4. 2. 4. 2. 2. 1.]\n [4. 8. 2. 4. 2. 4. 1. 2.]\n [4. 2. 8. 4. 2. 1. 4. 2.]\n [2. 4. 4. 8. 1. 2. 2. 4.]\n [4. 2. 2. 1. 8. 4. 4. 2.]\n [2. 4. 1. 2. 4. 8. 2. 4.]\n [2. 1. 4. 2. 4. 2. 8. 4.]\n [1. 2. 2. 4. 2. 4. 4. 8.]]\n"
     ]
    }
   ],
   "source": [
    "print(MMM)"
   ]
  },
  {
   "cell_type": "code",
   "execution_count": null,
   "metadata": {},
   "outputs": [],
   "source": []
  }
 ]
}